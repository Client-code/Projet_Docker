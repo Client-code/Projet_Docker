{
  "nbformat": 4,
  "nbformat_minor": 0,
  "metadata": {
    "kernelspec": {
      "display_name": "Python 3",
      "language": "python",
      "name": "python3"
    },
    "language_info": {
      "codemirror_mode": {
        "name": "ipython",
        "version": 3
      },
      "file_extension": ".py",
      "mimetype": "text/x-python",
      "name": "python",
      "nbconvert_exporter": "python",
      "pygments_lexer": "ipython3",
      "version": "3.8.3"
    },
    "colab": {
      "name": "Projet clinique_YB HH_DG.ipynb",
      "provenance": []
    }
  },
  "cells": [
    {
      "cell_type": "code",
      "metadata": {
        "id": "bIj5r71G9vKd"
      },
      "source": [
        "import pandas as pd\n",
        "import numpy as np\n",
        "import matplotlib\n",
        "import matplotlib.pyplot as plt\n",
        "import seaborn as sns\n",
        "import sklearn\n"
      ],
      "execution_count": 5,
      "outputs": []
    },
    {
      "cell_type": "code",
      "metadata": {
        "id": "BmbvBBe39vKm"
      },
      "source": [
        "df = pd.read_csv(\"Projet_clinique_Aut21.csv\", sep=\";\", decimal=',')\n"
      ],
      "execution_count": 6,
      "outputs": []
    },
    {
      "cell_type": "code",
      "metadata": {
        "id": "kzMUeWdq9vKn",
        "outputId": "f1453b8d-adb2-4ff2-c916-e4e4d6daee53",
        "colab": {
          "base_uri": "https://localhost:8080/",
          "height": 439
        }
      },
      "source": [
        "df"
      ],
      "execution_count": 7,
      "outputs": [
        {
          "output_type": "execute_result",
          "data": {
            "text/html": [
              "<div>\n",
              "<style scoped>\n",
              "    .dataframe tbody tr th:only-of-type {\n",
              "        vertical-align: middle;\n",
              "    }\n",
              "\n",
              "    .dataframe tbody tr th {\n",
              "        vertical-align: top;\n",
              "    }\n",
              "\n",
              "    .dataframe thead th {\n",
              "        text-align: right;\n",
              "    }\n",
              "</style>\n",
              "<table border=\"1\" class=\"dataframe\">\n",
              "  <thead>\n",
              "    <tr style=\"text-align: right;\">\n",
              "      <th></th>\n",
              "      <th>AGE</th>\n",
              "      <th>TRAITTEST</th>\n",
              "      <th>SEX</th>\n",
              "      <th>BMI</th>\n",
              "      <th>HDLBL</th>\n",
              "      <th>LDLBL</th>\n",
              "      <th>TGBL</th>\n",
              "      <th>ALATBL</th>\n",
              "      <th>GGT(microkat/L)BL</th>\n",
              "      <th>ASATBL</th>\n",
              "      <th>BilirubineBL</th>\n",
              "      <th>SCOREBINLDL16sem</th>\n",
              "      <th>SCOREBINTG16sem</th>\n",
              "    </tr>\n",
              "  </thead>\n",
              "  <tbody>\n",
              "    <tr>\n",
              "      <th>0</th>\n",
              "      <td>43</td>\n",
              "      <td>Placebo</td>\n",
              "      <td>F</td>\n",
              "      <td>22.3</td>\n",
              "      <td>0.59</td>\n",
              "      <td>1.4082</td>\n",
              "      <td>0.57</td>\n",
              "      <td>6.000</td>\n",
              "      <td>0.25</td>\n",
              "      <td>13.800</td>\n",
              "      <td>6.5</td>\n",
              "      <td>MAUVAIS</td>\n",
              "      <td>BON</td>\n",
              "    </tr>\n",
              "    <tr>\n",
              "      <th>1</th>\n",
              "      <td>55</td>\n",
              "      <td>Drug</td>\n",
              "      <td>F</td>\n",
              "      <td>23.7</td>\n",
              "      <td>0.51</td>\n",
              "      <td>1.9100</td>\n",
              "      <td>0.65</td>\n",
              "      <td>6.600</td>\n",
              "      <td>0.18</td>\n",
              "      <td>11.400</td>\n",
              "      <td>7.9</td>\n",
              "      <td>BON</td>\n",
              "      <td>MAUVAIS</td>\n",
              "    </tr>\n",
              "    <tr>\n",
              "      <th>2</th>\n",
              "      <td>49</td>\n",
              "      <td>Placebo</td>\n",
              "      <td>F</td>\n",
              "      <td>21.7</td>\n",
              "      <td>0.65</td>\n",
              "      <td>2.0520</td>\n",
              "      <td>0.79</td>\n",
              "      <td>6.600</td>\n",
              "      <td>0.25</td>\n",
              "      <td>15.600</td>\n",
              "      <td>5.8</td>\n",
              "      <td>MAUVAIS</td>\n",
              "      <td>MAUVAIS</td>\n",
              "    </tr>\n",
              "    <tr>\n",
              "      <th>3</th>\n",
              "      <td>40</td>\n",
              "      <td>Placebo</td>\n",
              "      <td>F</td>\n",
              "      <td>23.8</td>\n",
              "      <td>0.43</td>\n",
              "      <td>1.8878</td>\n",
              "      <td>1.87</td>\n",
              "      <td>6.600</td>\n",
              "      <td>0.26</td>\n",
              "      <td>12.000</td>\n",
              "      <td>3.6</td>\n",
              "      <td>MAUVAIS</td>\n",
              "      <td>BON</td>\n",
              "    </tr>\n",
              "    <tr>\n",
              "      <th>4</th>\n",
              "      <td>44</td>\n",
              "      <td>Drug</td>\n",
              "      <td>F</td>\n",
              "      <td>22.1</td>\n",
              "      <td>0.57</td>\n",
              "      <td>1.2507</td>\n",
              "      <td>0.90</td>\n",
              "      <td>7.800</td>\n",
              "      <td>0.35</td>\n",
              "      <td>17.400</td>\n",
              "      <td>6.2</td>\n",
              "      <td>BON</td>\n",
              "      <td>BON</td>\n",
              "    </tr>\n",
              "    <tr>\n",
              "      <th>...</th>\n",
              "      <td>...</td>\n",
              "      <td>...</td>\n",
              "      <td>...</td>\n",
              "      <td>...</td>\n",
              "      <td>...</td>\n",
              "      <td>...</td>\n",
              "      <td>...</td>\n",
              "      <td>...</td>\n",
              "      <td>...</td>\n",
              "      <td>...</td>\n",
              "      <td>...</td>\n",
              "      <td>...</td>\n",
              "      <td>...</td>\n",
              "    </tr>\n",
              "    <tr>\n",
              "      <th>133</th>\n",
              "      <td>54</td>\n",
              "      <td>Drug</td>\n",
              "      <td>F</td>\n",
              "      <td>19.7</td>\n",
              "      <td>0.87</td>\n",
              "      <td>2.2220</td>\n",
              "      <td>0.39</td>\n",
              "      <td>42.084</td>\n",
              "      <td>32.00</td>\n",
              "      <td>28.056</td>\n",
              "      <td>15.0</td>\n",
              "      <td>BON</td>\n",
              "      <td>MAUVAIS</td>\n",
              "    </tr>\n",
              "    <tr>\n",
              "      <th>134</th>\n",
              "      <td>38</td>\n",
              "      <td>Placebo</td>\n",
              "      <td>M</td>\n",
              "      <td>24.2</td>\n",
              "      <td>0.41</td>\n",
              "      <td>1.6017</td>\n",
              "      <td>0.95</td>\n",
              "      <td>42.600</td>\n",
              "      <td>0.39</td>\n",
              "      <td>30.000</td>\n",
              "      <td>12.1</td>\n",
              "      <td>MAUVAIS</td>\n",
              "      <td>MAUVAIS</td>\n",
              "    </tr>\n",
              "    <tr>\n",
              "      <th>135</th>\n",
              "      <td>33</td>\n",
              "      <td>Placebo</td>\n",
              "      <td>M</td>\n",
              "      <td>27.7</td>\n",
              "      <td>0.37</td>\n",
              "      <td>1.6890</td>\n",
              "      <td>1.36</td>\n",
              "      <td>64.800</td>\n",
              "      <td>1.60</td>\n",
              "      <td>28.800</td>\n",
              "      <td>10.0</td>\n",
              "      <td>MAUVAIS</td>\n",
              "      <td>MAUVAIS</td>\n",
              "    </tr>\n",
              "    <tr>\n",
              "      <th>136</th>\n",
              "      <td>34</td>\n",
              "      <td>Drug</td>\n",
              "      <td>M</td>\n",
              "      <td>27.4</td>\n",
              "      <td>0.39</td>\n",
              "      <td>1.7691</td>\n",
              "      <td>1.86</td>\n",
              "      <td>67.800</td>\n",
              "      <td>1.44</td>\n",
              "      <td>34.800</td>\n",
              "      <td>10.6</td>\n",
              "      <td>MAUVAIS</td>\n",
              "      <td>BON</td>\n",
              "    </tr>\n",
              "    <tr>\n",
              "      <th>137</th>\n",
              "      <td>37</td>\n",
              "      <td>Drug</td>\n",
              "      <td>F</td>\n",
              "      <td>26.2</td>\n",
              "      <td>0.45</td>\n",
              "      <td>1.2625</td>\n",
              "      <td>0.73</td>\n",
              "      <td>78.600</td>\n",
              "      <td>0.27</td>\n",
              "      <td>50.400</td>\n",
              "      <td>9.2</td>\n",
              "      <td>BON</td>\n",
              "      <td>MAUVAIS</td>\n",
              "    </tr>\n",
              "  </tbody>\n",
              "</table>\n",
              "<p>138 rows × 13 columns</p>\n",
              "</div>"
            ],
            "text/plain": [
              "     AGE TRAITTEST SEX  ...  BilirubineBL  SCOREBINLDL16sem  SCOREBINTG16sem\n",
              "0     43   Placebo   F  ...           6.5           MAUVAIS              BON\n",
              "1     55      Drug   F  ...           7.9               BON          MAUVAIS\n",
              "2     49   Placebo   F  ...           5.8           MAUVAIS          MAUVAIS\n",
              "3     40   Placebo   F  ...           3.6           MAUVAIS              BON\n",
              "4     44      Drug   F  ...           6.2               BON              BON\n",
              "..   ...       ...  ..  ...           ...               ...              ...\n",
              "133   54      Drug   F  ...          15.0               BON          MAUVAIS\n",
              "134   38   Placebo   M  ...          12.1           MAUVAIS          MAUVAIS\n",
              "135   33   Placebo   M  ...          10.0           MAUVAIS          MAUVAIS\n",
              "136   34      Drug   M  ...          10.6           MAUVAIS              BON\n",
              "137   37      Drug   F  ...           9.2               BON          MAUVAIS\n",
              "\n",
              "[138 rows x 13 columns]"
            ]
          },
          "metadata": {},
          "execution_count": 7
        }
      ]
    },
    {
      "cell_type": "code",
      "metadata": {
        "id": "XUQTmbcW9vKo",
        "outputId": "54b5ced5-d84c-4b46-cac6-85943baa7ff6",
        "colab": {
          "base_uri": "https://localhost:8080/"
        }
      },
      "source": [
        "df.shape"
      ],
      "execution_count": 8,
      "outputs": [
        {
          "output_type": "execute_result",
          "data": {
            "text/plain": [
              "(138, 13)"
            ]
          },
          "metadata": {},
          "execution_count": 8
        }
      ]
    },
    {
      "cell_type": "code",
      "metadata": {
        "id": "4605jVen9vKp",
        "outputId": "47ffb674-3039-4123-b84f-6f1788e5ae7d",
        "colab": {
          "base_uri": "https://localhost:8080/"
        }
      },
      "source": [
        "df.info()"
      ],
      "execution_count": 9,
      "outputs": [
        {
          "output_type": "stream",
          "name": "stdout",
          "text": [
            "<class 'pandas.core.frame.DataFrame'>\n",
            "RangeIndex: 138 entries, 0 to 137\n",
            "Data columns (total 13 columns):\n",
            " #   Column             Non-Null Count  Dtype  \n",
            "---  ------             --------------  -----  \n",
            " 0   AGE                138 non-null    int64  \n",
            " 1   TRAITTEST          138 non-null    object \n",
            " 2   SEX                138 non-null    object \n",
            " 3   BMI                138 non-null    float64\n",
            " 4   HDLBL              138 non-null    float64\n",
            " 5   LDLBL              138 non-null    float64\n",
            " 6   TGBL               138 non-null    float64\n",
            " 7   ALATBL             138 non-null    float64\n",
            " 8   GGT(microkat/L)BL  123 non-null    float64\n",
            " 9   ASATBL             138 non-null    float64\n",
            " 10  BilirubineBL       138 non-null    float64\n",
            " 11  SCOREBINLDL16sem   138 non-null    object \n",
            " 12  SCOREBINTG16sem    138 non-null    object \n",
            "dtypes: float64(8), int64(1), object(4)\n",
            "memory usage: 14.1+ KB\n"
          ]
        }
      ]
    },
    {
      "cell_type": "code",
      "metadata": {
        "id": "SlI_iSrB9yAC",
        "outputId": "15f01194-52ef-41dc-e609-4e5a0ffbabbc",
        "colab": {
          "base_uri": "https://localhost:8080/"
        }
      },
      "source": [
        "df[\"TRAITTEST\"].unique()"
      ],
      "execution_count": 12,
      "outputs": [
        {
          "output_type": "execute_result",
          "data": {
            "text/plain": [
              "array(['Placebo', 'Drug'], dtype=object)"
            ]
          },
          "metadata": {},
          "execution_count": 12
        }
      ]
    },
    {
      "cell_type": "markdown",
      "metadata": {
        "id": "lZKmqbdO9vKq"
      },
      "source": [
        "EDA"
      ]
    },
    {
      "cell_type": "code",
      "metadata": {
        "id": "xJpEjHS39vKu"
      },
      "source": [
        "df.set_index('TRAITTEST')"
      ],
      "execution_count": null,
      "outputs": []
    },
    {
      "cell_type": "code",
      "metadata": {
        "id": "O_UYklRy9vKx"
      },
      "source": [
        "df.isnull().sum()"
      ],
      "execution_count": null,
      "outputs": []
    },
    {
      "cell_type": "code",
      "metadata": {
        "id": "dJ5-sgWZ9vKy"
      },
      "source": [
        "df[\"GGT(microkat/L)BL\"].unique()"
      ],
      "execution_count": null,
      "outputs": []
    },
    {
      "cell_type": "code",
      "metadata": {
        "id": "QRlxobzT9vK0"
      },
      "source": [
        "## Nous remarquons que nous avons des valeurs NaN (10%) qu'on remplacemra par la mediane : \n",
        "p = (15/138)*100\n",
        "p"
      ],
      "execution_count": null,
      "outputs": []
    },
    {
      "cell_type": "code",
      "metadata": {
        "id": "VfOO1BU79vK1"
      },
      "source": [
        "df.fillna(df.median(), inplace=True)"
      ],
      "execution_count": null,
      "outputs": []
    },
    {
      "cell_type": "code",
      "metadata": {
        "id": "Rje-mEYH9vK2"
      },
      "source": [
        "df.isnull().sum()"
      ],
      "execution_count": null,
      "outputs": []
    },
    {
      "cell_type": "code",
      "metadata": {
        "id": "Lg1FtCBa9vK3"
      },
      "source": [
        "correl = df.corr()\n",
        "f,ax=plt.subplots(figsize=(30,30))\n",
        "sns.heatmap(correl,cmap=\"Blues\",annot=True)"
      ],
      "execution_count": null,
      "outputs": []
    },
    {
      "cell_type": "code",
      "metadata": {
        "id": "H-RkAY4l9vK4"
      },
      "source": [
        ""
      ],
      "execution_count": null,
      "outputs": []
    }
  ]
}