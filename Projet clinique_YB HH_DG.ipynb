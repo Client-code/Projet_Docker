{
  "nbformat": 4,
  "nbformat_minor": 0,
  "metadata": {
    "kernelspec": {
      "display_name": "Python 3",
      "language": "python",
      "name": "python3"
    },
    "language_info": {
      "codemirror_mode": {
        "name": "ipython",
        "version": 3
      },
      "file_extension": ".py",
      "mimetype": "text/x-python",
      "name": "python",
      "nbconvert_exporter": "python",
      "pygments_lexer": "ipython3",
      "version": "3.8.3"
    },
    "colab": {
      "name": "Projet clinique_YB HH_DG.ipynb",
      "provenance": []
    }
  },
  "cells": [
    {
      "cell_type": "code",
      "metadata": {
        "id": "bIj5r71G9vKd"
      },
      "source": [
        "import pandas as pd\n",
        "import numpy as np\n",
        "import matplotlib\n",
        "import matplotlib.pyplot as plt\n",
        "import seaborn as sns\n",
        "import sklearn\n"
      ],
      "execution_count": 13,
      "outputs": []
    },
    {
      "cell_type": "code",
      "metadata": {
        "id": "BmbvBBe39vKm"
      },
      "source": [
        "df = pd.read_csv(\"Projet_clinique_Aut21.csv\", sep=\";\", decimal=',')\n"
      ],
      "execution_count": 14,
      "outputs": []
    },
    {
      "cell_type": "code",
      "metadata": {
        "colab": {
          "base_uri": "https://localhost:8080/",
          "height": 439
        },
        "id": "kzMUeWdq9vKn",
        "outputId": "d3de325f-c061-42e8-b8f5-12f75ed7b94d"
      },
      "source": [
        "df"
      ],
      "execution_count": 15,
      "outputs": [
        {
          "output_type": "execute_result",
          "data": {
            "text/html": [
              "<div>\n",
              "<style scoped>\n",
              "    .dataframe tbody tr th:only-of-type {\n",
              "        vertical-align: middle;\n",
              "    }\n",
              "\n",
              "    .dataframe tbody tr th {\n",
              "        vertical-align: top;\n",
              "    }\n",
              "\n",
              "    .dataframe thead th {\n",
              "        text-align: right;\n",
              "    }\n",
              "</style>\n",
              "<table border=\"1\" class=\"dataframe\">\n",
              "  <thead>\n",
              "    <tr style=\"text-align: right;\">\n",
              "      <th></th>\n",
              "      <th>AGE</th>\n",
              "      <th>TRAITTEST</th>\n",
              "      <th>SEX</th>\n",
              "      <th>BMI</th>\n",
              "      <th>HDLBL</th>\n",
              "      <th>LDLBL</th>\n",
              "      <th>TGBL</th>\n",
              "      <th>ALATBL</th>\n",
              "      <th>GGT(microkat/L)BL</th>\n",
              "      <th>ASATBL</th>\n",
              "      <th>BilirubineBL</th>\n",
              "      <th>SCOREBINLDL16sem</th>\n",
              "      <th>SCOREBINTG16sem</th>\n",
              "    </tr>\n",
              "  </thead>\n",
              "  <tbody>\n",
              "    <tr>\n",
              "      <th>0</th>\n",
              "      <td>43</td>\n",
              "      <td>Placebo</td>\n",
              "      <td>F</td>\n",
              "      <td>22.3</td>\n",
              "      <td>0.59</td>\n",
              "      <td>1.4082</td>\n",
              "      <td>0.57</td>\n",
              "      <td>6.000</td>\n",
              "      <td>0.25</td>\n",
              "      <td>13.800</td>\n",
              "      <td>6.5</td>\n",
              "      <td>MAUVAIS</td>\n",
              "      <td>BON</td>\n",
              "    </tr>\n",
              "    <tr>\n",
              "      <th>1</th>\n",
              "      <td>55</td>\n",
              "      <td>Drug</td>\n",
              "      <td>F</td>\n",
              "      <td>23.7</td>\n",
              "      <td>0.51</td>\n",
              "      <td>1.9100</td>\n",
              "      <td>0.65</td>\n",
              "      <td>6.600</td>\n",
              "      <td>0.18</td>\n",
              "      <td>11.400</td>\n",
              "      <td>7.9</td>\n",
              "      <td>BON</td>\n",
              "      <td>MAUVAIS</td>\n",
              "    </tr>\n",
              "    <tr>\n",
              "      <th>2</th>\n",
              "      <td>49</td>\n",
              "      <td>Placebo</td>\n",
              "      <td>F</td>\n",
              "      <td>21.7</td>\n",
              "      <td>0.65</td>\n",
              "      <td>2.0520</td>\n",
              "      <td>0.79</td>\n",
              "      <td>6.600</td>\n",
              "      <td>0.25</td>\n",
              "      <td>15.600</td>\n",
              "      <td>5.8</td>\n",
              "      <td>MAUVAIS</td>\n",
              "      <td>MAUVAIS</td>\n",
              "    </tr>\n",
              "    <tr>\n",
              "      <th>3</th>\n",
              "      <td>40</td>\n",
              "      <td>Placebo</td>\n",
              "      <td>F</td>\n",
              "      <td>23.8</td>\n",
              "      <td>0.43</td>\n",
              "      <td>1.8878</td>\n",
              "      <td>1.87</td>\n",
              "      <td>6.600</td>\n",
              "      <td>0.26</td>\n",
              "      <td>12.000</td>\n",
              "      <td>3.6</td>\n",
              "      <td>MAUVAIS</td>\n",
              "      <td>BON</td>\n",
              "    </tr>\n",
              "    <tr>\n",
              "      <th>4</th>\n",
              "      <td>44</td>\n",
              "      <td>Drug</td>\n",
              "      <td>F</td>\n",
              "      <td>22.1</td>\n",
              "      <td>0.57</td>\n",
              "      <td>1.2507</td>\n",
              "      <td>0.90</td>\n",
              "      <td>7.800</td>\n",
              "      <td>0.35</td>\n",
              "      <td>17.400</td>\n",
              "      <td>6.2</td>\n",
              "      <td>BON</td>\n",
              "      <td>BON</td>\n",
              "    </tr>\n",
              "    <tr>\n",
              "      <th>...</th>\n",
              "      <td>...</td>\n",
              "      <td>...</td>\n",
              "      <td>...</td>\n",
              "      <td>...</td>\n",
              "      <td>...</td>\n",
              "      <td>...</td>\n",
              "      <td>...</td>\n",
              "      <td>...</td>\n",
              "      <td>...</td>\n",
              "      <td>...</td>\n",
              "      <td>...</td>\n",
              "      <td>...</td>\n",
              "      <td>...</td>\n",
              "    </tr>\n",
              "    <tr>\n",
              "      <th>133</th>\n",
              "      <td>54</td>\n",
              "      <td>Drug</td>\n",
              "      <td>F</td>\n",
              "      <td>19.7</td>\n",
              "      <td>0.87</td>\n",
              "      <td>2.2220</td>\n",
              "      <td>0.39</td>\n",
              "      <td>42.084</td>\n",
              "      <td>32.00</td>\n",
              "      <td>28.056</td>\n",
              "      <td>15.0</td>\n",
              "      <td>BON</td>\n",
              "      <td>MAUVAIS</td>\n",
              "    </tr>\n",
              "    <tr>\n",
              "      <th>134</th>\n",
              "      <td>38</td>\n",
              "      <td>Placebo</td>\n",
              "      <td>M</td>\n",
              "      <td>24.2</td>\n",
              "      <td>0.41</td>\n",
              "      <td>1.6017</td>\n",
              "      <td>0.95</td>\n",
              "      <td>42.600</td>\n",
              "      <td>0.39</td>\n",
              "      <td>30.000</td>\n",
              "      <td>12.1</td>\n",
              "      <td>MAUVAIS</td>\n",
              "      <td>MAUVAIS</td>\n",
              "    </tr>\n",
              "    <tr>\n",
              "      <th>135</th>\n",
              "      <td>33</td>\n",
              "      <td>Placebo</td>\n",
              "      <td>M</td>\n",
              "      <td>27.7</td>\n",
              "      <td>0.37</td>\n",
              "      <td>1.6890</td>\n",
              "      <td>1.36</td>\n",
              "      <td>64.800</td>\n",
              "      <td>1.60</td>\n",
              "      <td>28.800</td>\n",
              "      <td>10.0</td>\n",
              "      <td>MAUVAIS</td>\n",
              "      <td>MAUVAIS</td>\n",
              "    </tr>\n",
              "    <tr>\n",
              "      <th>136</th>\n",
              "      <td>34</td>\n",
              "      <td>Drug</td>\n",
              "      <td>M</td>\n",
              "      <td>27.4</td>\n",
              "      <td>0.39</td>\n",
              "      <td>1.7691</td>\n",
              "      <td>1.86</td>\n",
              "      <td>67.800</td>\n",
              "      <td>1.44</td>\n",
              "      <td>34.800</td>\n",
              "      <td>10.6</td>\n",
              "      <td>MAUVAIS</td>\n",
              "      <td>BON</td>\n",
              "    </tr>\n",
              "    <tr>\n",
              "      <th>137</th>\n",
              "      <td>37</td>\n",
              "      <td>Drug</td>\n",
              "      <td>F</td>\n",
              "      <td>26.2</td>\n",
              "      <td>0.45</td>\n",
              "      <td>1.2625</td>\n",
              "      <td>0.73</td>\n",
              "      <td>78.600</td>\n",
              "      <td>0.27</td>\n",
              "      <td>50.400</td>\n",
              "      <td>9.2</td>\n",
              "      <td>BON</td>\n",
              "      <td>MAUVAIS</td>\n",
              "    </tr>\n",
              "  </tbody>\n",
              "</table>\n",
              "<p>138 rows × 13 columns</p>\n",
              "</div>"
            ],
            "text/plain": [
              "     AGE TRAITTEST SEX  ...  BilirubineBL  SCOREBINLDL16sem  SCOREBINTG16sem\n",
              "0     43   Placebo   F  ...           6.5           MAUVAIS              BON\n",
              "1     55      Drug   F  ...           7.9               BON          MAUVAIS\n",
              "2     49   Placebo   F  ...           5.8           MAUVAIS          MAUVAIS\n",
              "3     40   Placebo   F  ...           3.6           MAUVAIS              BON\n",
              "4     44      Drug   F  ...           6.2               BON              BON\n",
              "..   ...       ...  ..  ...           ...               ...              ...\n",
              "133   54      Drug   F  ...          15.0               BON          MAUVAIS\n",
              "134   38   Placebo   M  ...          12.1           MAUVAIS          MAUVAIS\n",
              "135   33   Placebo   M  ...          10.0           MAUVAIS          MAUVAIS\n",
              "136   34      Drug   M  ...          10.6           MAUVAIS              BON\n",
              "137   37      Drug   F  ...           9.2               BON          MAUVAIS\n",
              "\n",
              "[138 rows x 13 columns]"
            ]
          },
          "metadata": {},
          "execution_count": 15
        }
      ]
    },
    {
      "cell_type": "code",
      "metadata": {
        "colab": {
          "base_uri": "https://localhost:8080/"
        },
        "id": "XUQTmbcW9vKo",
        "outputId": "51e8e7a0-bc19-43d2-ff0e-161506ee5845"
      },
      "source": [
        "df.shape"
      ],
      "execution_count": 16,
      "outputs": [
        {
          "output_type": "execute_result",
          "data": {
            "text/plain": [
              "(138, 13)"
            ]
          },
          "metadata": {},
          "execution_count": 16
        }
      ]
    },
    {
      "cell_type": "code",
      "metadata": {
        "colab": {
          "base_uri": "https://localhost:8080/"
        },
        "id": "4605jVen9vKp",
        "outputId": "c29d6973-57b1-46d9-8e75-17460f42aed8"
      },
      "source": [
        "df.info()"
      ],
      "execution_count": 17,
      "outputs": [
        {
          "output_type": "stream",
          "name": "stdout",
          "text": [
            "<class 'pandas.core.frame.DataFrame'>\n",
            "RangeIndex: 138 entries, 0 to 137\n",
            "Data columns (total 13 columns):\n",
            " #   Column             Non-Null Count  Dtype  \n",
            "---  ------             --------------  -----  \n",
            " 0   AGE                138 non-null    int64  \n",
            " 1   TRAITTEST          138 non-null    object \n",
            " 2   SEX                138 non-null    object \n",
            " 3   BMI                138 non-null    float64\n",
            " 4   HDLBL              138 non-null    float64\n",
            " 5   LDLBL              138 non-null    float64\n",
            " 6   TGBL               138 non-null    float64\n",
            " 7   ALATBL             138 non-null    float64\n",
            " 8   GGT(microkat/L)BL  123 non-null    float64\n",
            " 9   ASATBL             138 non-null    float64\n",
            " 10  BilirubineBL       138 non-null    float64\n",
            " 11  SCOREBINLDL16sem   138 non-null    object \n",
            " 12  SCOREBINTG16sem    138 non-null    object \n",
            "dtypes: float64(8), int64(1), object(4)\n",
            "memory usage: 14.1+ KB\n"
          ]
        }
      ]
    },
    {
      "cell_type": "code",
      "metadata": {
        "id": "SlI_iSrB9yAC"
      },
      "source": [
        ""
      ],
      "execution_count": 17,
      "outputs": []
    },
    {
      "cell_type": "markdown",
      "metadata": {
        "id": "lZKmqbdO9vKq"
      },
      "source": [
        "EDA"
      ]
    },
    {
      "cell_type": "code",
      "metadata": {
        "colab": {
          "base_uri": "https://localhost:8080/",
          "height": 450
        },
        "id": "xJpEjHS39vKu",
        "outputId": "9fd251cc-d0f6-44f9-acba-92fe5538b35f"
      },
      "source": [
        "df.set_index('TRAITTEST')"
      ],
      "execution_count": 18,
      "outputs": [
        {
          "output_type": "execute_result",
          "data": {
            "text/html": [
              "<div>\n",
              "<style scoped>\n",
              "    .dataframe tbody tr th:only-of-type {\n",
              "        vertical-align: middle;\n",
              "    }\n",
              "\n",
              "    .dataframe tbody tr th {\n",
              "        vertical-align: top;\n",
              "    }\n",
              "\n",
              "    .dataframe thead th {\n",
              "        text-align: right;\n",
              "    }\n",
              "</style>\n",
              "<table border=\"1\" class=\"dataframe\">\n",
              "  <thead>\n",
              "    <tr style=\"text-align: right;\">\n",
              "      <th></th>\n",
              "      <th>AGE</th>\n",
              "      <th>SEX</th>\n",
              "      <th>BMI</th>\n",
              "      <th>HDLBL</th>\n",
              "      <th>LDLBL</th>\n",
              "      <th>TGBL</th>\n",
              "      <th>ALATBL</th>\n",
              "      <th>GGT(microkat/L)BL</th>\n",
              "      <th>ASATBL</th>\n",
              "      <th>BilirubineBL</th>\n",
              "      <th>SCOREBINLDL16sem</th>\n",
              "      <th>SCOREBINTG16sem</th>\n",
              "    </tr>\n",
              "    <tr>\n",
              "      <th>TRAITTEST</th>\n",
              "      <th></th>\n",
              "      <th></th>\n",
              "      <th></th>\n",
              "      <th></th>\n",
              "      <th></th>\n",
              "      <th></th>\n",
              "      <th></th>\n",
              "      <th></th>\n",
              "      <th></th>\n",
              "      <th></th>\n",
              "      <th></th>\n",
              "      <th></th>\n",
              "    </tr>\n",
              "  </thead>\n",
              "  <tbody>\n",
              "    <tr>\n",
              "      <th>Placebo</th>\n",
              "      <td>43</td>\n",
              "      <td>F</td>\n",
              "      <td>22.3</td>\n",
              "      <td>0.59</td>\n",
              "      <td>1.4082</td>\n",
              "      <td>0.57</td>\n",
              "      <td>6.000</td>\n",
              "      <td>0.25</td>\n",
              "      <td>13.800</td>\n",
              "      <td>6.5</td>\n",
              "      <td>MAUVAIS</td>\n",
              "      <td>BON</td>\n",
              "    </tr>\n",
              "    <tr>\n",
              "      <th>Drug</th>\n",
              "      <td>55</td>\n",
              "      <td>F</td>\n",
              "      <td>23.7</td>\n",
              "      <td>0.51</td>\n",
              "      <td>1.9100</td>\n",
              "      <td>0.65</td>\n",
              "      <td>6.600</td>\n",
              "      <td>0.18</td>\n",
              "      <td>11.400</td>\n",
              "      <td>7.9</td>\n",
              "      <td>BON</td>\n",
              "      <td>MAUVAIS</td>\n",
              "    </tr>\n",
              "    <tr>\n",
              "      <th>Placebo</th>\n",
              "      <td>49</td>\n",
              "      <td>F</td>\n",
              "      <td>21.7</td>\n",
              "      <td>0.65</td>\n",
              "      <td>2.0520</td>\n",
              "      <td>0.79</td>\n",
              "      <td>6.600</td>\n",
              "      <td>0.25</td>\n",
              "      <td>15.600</td>\n",
              "      <td>5.8</td>\n",
              "      <td>MAUVAIS</td>\n",
              "      <td>MAUVAIS</td>\n",
              "    </tr>\n",
              "    <tr>\n",
              "      <th>Placebo</th>\n",
              "      <td>40</td>\n",
              "      <td>F</td>\n",
              "      <td>23.8</td>\n",
              "      <td>0.43</td>\n",
              "      <td>1.8878</td>\n",
              "      <td>1.87</td>\n",
              "      <td>6.600</td>\n",
              "      <td>0.26</td>\n",
              "      <td>12.000</td>\n",
              "      <td>3.6</td>\n",
              "      <td>MAUVAIS</td>\n",
              "      <td>BON</td>\n",
              "    </tr>\n",
              "    <tr>\n",
              "      <th>Drug</th>\n",
              "      <td>44</td>\n",
              "      <td>F</td>\n",
              "      <td>22.1</td>\n",
              "      <td>0.57</td>\n",
              "      <td>1.2507</td>\n",
              "      <td>0.90</td>\n",
              "      <td>7.800</td>\n",
              "      <td>0.35</td>\n",
              "      <td>17.400</td>\n",
              "      <td>6.2</td>\n",
              "      <td>BON</td>\n",
              "      <td>BON</td>\n",
              "    </tr>\n",
              "    <tr>\n",
              "      <th>...</th>\n",
              "      <td>...</td>\n",
              "      <td>...</td>\n",
              "      <td>...</td>\n",
              "      <td>...</td>\n",
              "      <td>...</td>\n",
              "      <td>...</td>\n",
              "      <td>...</td>\n",
              "      <td>...</td>\n",
              "      <td>...</td>\n",
              "      <td>...</td>\n",
              "      <td>...</td>\n",
              "      <td>...</td>\n",
              "    </tr>\n",
              "    <tr>\n",
              "      <th>Drug</th>\n",
              "      <td>54</td>\n",
              "      <td>F</td>\n",
              "      <td>19.7</td>\n",
              "      <td>0.87</td>\n",
              "      <td>2.2220</td>\n",
              "      <td>0.39</td>\n",
              "      <td>42.084</td>\n",
              "      <td>32.00</td>\n",
              "      <td>28.056</td>\n",
              "      <td>15.0</td>\n",
              "      <td>BON</td>\n",
              "      <td>MAUVAIS</td>\n",
              "    </tr>\n",
              "    <tr>\n",
              "      <th>Placebo</th>\n",
              "      <td>38</td>\n",
              "      <td>M</td>\n",
              "      <td>24.2</td>\n",
              "      <td>0.41</td>\n",
              "      <td>1.6017</td>\n",
              "      <td>0.95</td>\n",
              "      <td>42.600</td>\n",
              "      <td>0.39</td>\n",
              "      <td>30.000</td>\n",
              "      <td>12.1</td>\n",
              "      <td>MAUVAIS</td>\n",
              "      <td>MAUVAIS</td>\n",
              "    </tr>\n",
              "    <tr>\n",
              "      <th>Placebo</th>\n",
              "      <td>33</td>\n",
              "      <td>M</td>\n",
              "      <td>27.7</td>\n",
              "      <td>0.37</td>\n",
              "      <td>1.6890</td>\n",
              "      <td>1.36</td>\n",
              "      <td>64.800</td>\n",
              "      <td>1.60</td>\n",
              "      <td>28.800</td>\n",
              "      <td>10.0</td>\n",
              "      <td>MAUVAIS</td>\n",
              "      <td>MAUVAIS</td>\n",
              "    </tr>\n",
              "    <tr>\n",
              "      <th>Drug</th>\n",
              "      <td>34</td>\n",
              "      <td>M</td>\n",
              "      <td>27.4</td>\n",
              "      <td>0.39</td>\n",
              "      <td>1.7691</td>\n",
              "      <td>1.86</td>\n",
              "      <td>67.800</td>\n",
              "      <td>1.44</td>\n",
              "      <td>34.800</td>\n",
              "      <td>10.6</td>\n",
              "      <td>MAUVAIS</td>\n",
              "      <td>BON</td>\n",
              "    </tr>\n",
              "    <tr>\n",
              "      <th>Drug</th>\n",
              "      <td>37</td>\n",
              "      <td>F</td>\n",
              "      <td>26.2</td>\n",
              "      <td>0.45</td>\n",
              "      <td>1.2625</td>\n",
              "      <td>0.73</td>\n",
              "      <td>78.600</td>\n",
              "      <td>0.27</td>\n",
              "      <td>50.400</td>\n",
              "      <td>9.2</td>\n",
              "      <td>BON</td>\n",
              "      <td>MAUVAIS</td>\n",
              "    </tr>\n",
              "  </tbody>\n",
              "</table>\n",
              "<p>138 rows × 12 columns</p>\n",
              "</div>"
            ],
            "text/plain": [
              "           AGE SEX   BMI  ...  BilirubineBL  SCOREBINLDL16sem  SCOREBINTG16sem\n",
              "TRAITTEST                 ...                                                 \n",
              "Placebo     43   F  22.3  ...           6.5           MAUVAIS              BON\n",
              "Drug        55   F  23.7  ...           7.9               BON          MAUVAIS\n",
              "Placebo     49   F  21.7  ...           5.8           MAUVAIS          MAUVAIS\n",
              "Placebo     40   F  23.8  ...           3.6           MAUVAIS              BON\n",
              "Drug        44   F  22.1  ...           6.2               BON              BON\n",
              "...        ...  ..   ...  ...           ...               ...              ...\n",
              "Drug        54   F  19.7  ...          15.0               BON          MAUVAIS\n",
              "Placebo     38   M  24.2  ...          12.1           MAUVAIS          MAUVAIS\n",
              "Placebo     33   M  27.7  ...          10.0           MAUVAIS          MAUVAIS\n",
              "Drug        34   M  27.4  ...          10.6           MAUVAIS              BON\n",
              "Drug        37   F  26.2  ...           9.2               BON          MAUVAIS\n",
              "\n",
              "[138 rows x 12 columns]"
            ]
          },
          "metadata": {},
          "execution_count": 18
        }
      ]
    },
    {
      "cell_type": "code",
      "metadata": {
        "colab": {
          "base_uri": "https://localhost:8080/"
        },
        "id": "O_UYklRy9vKx",
        "outputId": "d5fb359a-dd44-4814-e82d-7e901dbe044b"
      },
      "source": [
        "df.isnull().sum()"
      ],
      "execution_count": 19,
      "outputs": [
        {
          "output_type": "execute_result",
          "data": {
            "text/plain": [
              "AGE                   0\n",
              "TRAITTEST             0\n",
              "SEX                   0\n",
              "BMI                   0\n",
              "HDLBL                 0\n",
              "LDLBL                 0\n",
              "TGBL                  0\n",
              "ALATBL                0\n",
              "GGT(microkat/L)BL    15\n",
              "ASATBL                0\n",
              "BilirubineBL          0\n",
              "SCOREBINLDL16sem      0\n",
              "SCOREBINTG16sem       0\n",
              "dtype: int64"
            ]
          },
          "metadata": {},
          "execution_count": 19
        }
      ]
    },
    {
      "cell_type": "code",
      "metadata": {
        "colab": {
          "base_uri": "https://localhost:8080/"
        },
        "id": "dJ5-sgWZ9vKy",
        "outputId": "35333dc7-0b35-421d-c93f-a1de2fe6cf07"
      },
      "source": [
        "df[\"GGT(microkat/L)BL\"].unique()"
      ],
      "execution_count": 20,
      "outputs": [
        {
          "output_type": "execute_result",
          "data": {
            "text/plain": [
              "array([ 0.25,  0.18,  0.26,  0.35,  9.  ,  0.23,  0.39,  0.2 ,  0.29,\n",
              "        0.21,  0.17,  0.31,  0.33,  0.22,  0.24,  0.16,  0.27,  0.19,\n",
              "        0.28,  0.38,  0.3 ,  0.52,  0.88,  8.  ,   nan,  0.72,  1.71,\n",
              "        0.77,  0.6 ,  0.78,  0.41,  0.59, 22.  ,  1.77,  0.46,  0.49,\n",
              "       20.  ,  0.32, 10.  , 13.  ,  0.61,  0.4 ,  0.73, 19.  ,  0.36,\n",
              "       11.  ,  0.62,  0.34, 21.  ,  0.5 ,  2.23,  1.04,  0.43,  0.68,\n",
              "       72.  , 39.  ,  0.47,  0.58,  1.27,  0.54, 63.  ,  0.42,  0.51,\n",
              "       79.  ,  0.37, 32.  ,  1.6 ,  1.44])"
            ]
          },
          "metadata": {},
          "execution_count": 20
        }
      ]
    },
    {
      "cell_type": "code",
      "metadata": {
        "colab": {
          "base_uri": "https://localhost:8080/"
        },
        "id": "QRlxobzT9vK0",
        "outputId": "3c3f5954-9b90-44fd-adef-b189b8893e5d"
      },
      "source": [
        "## Nous remarquons que nous avons des valeurs NaN (10%) qu'on remplacemra par la mediane : \n",
        "p = (15/138)*100\n",
        "p"
      ],
      "execution_count": 21,
      "outputs": [
        {
          "output_type": "execute_result",
          "data": {
            "text/plain": [
              "10.869565217391305"
            ]
          },
          "metadata": {},
          "execution_count": 21
        }
      ]
    },
    {
      "cell_type": "code",
      "metadata": {
        "id": "VfOO1BU79vK1"
      },
      "source": [
        "df.fillna(df.median(), inplace=True)"
      ],
      "execution_count": 22,
      "outputs": []
    },
    {
      "cell_type": "code",
      "metadata": {
        "colab": {
          "base_uri": "https://localhost:8080/"
        },
        "id": "Rje-mEYH9vK2",
        "outputId": "69119061-151b-47aa-9e19-a382510e8284"
      },
      "source": [
        "df.isnull().sum()"
      ],
      "execution_count": 23,
      "outputs": [
        {
          "output_type": "execute_result",
          "data": {
            "text/plain": [
              "AGE                  0\n",
              "TRAITTEST            0\n",
              "SEX                  0\n",
              "BMI                  0\n",
              "HDLBL                0\n",
              "LDLBL                0\n",
              "TGBL                 0\n",
              "ALATBL               0\n",
              "GGT(microkat/L)BL    0\n",
              "ASATBL               0\n",
              "BilirubineBL         0\n",
              "SCOREBINLDL16sem     0\n",
              "SCOREBINTG16sem      0\n",
              "dtype: int64"
            ]
          },
          "metadata": {},
          "execution_count": 23
        }
      ]
    },
    {
      "cell_type": "code",
      "metadata": {
        "colab": {
          "base_uri": "https://localhost:8080/",
          "height": 1000
        },
        "id": "Lg1FtCBa9vK3",
        "outputId": "ecd93362-90fd-4b22-bb0a-d6d748e86e66"
      },
      "source": [
        "correl = df.corr()\n",
        "f,ax=plt.subplots(figsize=(30,30))\n",
        "sns.heatmap(correl,cmap=\"Blues\",annot=True)"
      ],
      "execution_count": 24,
      "outputs": [
        {
          "output_type": "execute_result",
          "data": {
            "text/plain": [
              "<matplotlib.axes._subplots.AxesSubplot at 0x7fe9b8166510>"
            ]
          },
          "metadata": {},
          "execution_count": 24
        },
        {
          "output_type": "display_data",
          "data": {
            "image/png": "[encoded data removed]",
            "text/plain": [
              "<Figure size 2160x2160 with 2 Axes>"
            ]
          },
          "metadata": {
            "needs_background": "light"
          }
        }
      ]
    },
    {
      "cell_type": "code",
      "metadata": {
        "id": "H-RkAY4l9vK4"
      },
      "source": [
        ""
      ],
      "execution_count": 24,
      "outputs": []
    }
  ]
}